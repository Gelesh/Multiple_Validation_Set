{
 "cells": [
  {
   "cell_type": "markdown",
   "id": "24221a15",
   "metadata": {},
   "source": [
    "#  Imports"
   ]
  },
  {
   "cell_type": "code",
   "execution_count": 89,
   "id": "9a02c8a0",
   "metadata": {
    "ExecuteTime": {
     "end_time": "2023-03-23T02:05:03.384689Z",
     "start_time": "2023-03-23T02:05:03.373689Z"
    }
   },
   "outputs": [],
   "source": [
    "import numpy as np\n",
    "from tensorflow import keras\n",
    "from keras.preprocessing.image import ImageDataGenerator\n",
    "\n",
    "from tensorflow.keras import layers\n",
    "from tensorflow.keras.preprocessing import image_dataset_from_directory\n",
    "from tensorflow.keras.datasets import mnist\n",
    "\n",
    "from sklearn.model_selection import train_test_split\n",
    "\n",
    "from matplotlib import pyplot\n",
    "import random\n",
    "import pandas as pd\n",
    "import numpy as np"
   ]
  },
  {
   "cell_type": "markdown",
   "id": "796d3909",
   "metadata": {},
   "source": [
    "# Data Processing"
   ]
  },
  {
   "cell_type": "code",
   "execution_count": 90,
   "id": "be507a77",
   "metadata": {
    "ExecuteTime": {
     "end_time": "2023-03-23T02:05:03.711698Z",
     "start_time": "2023-03-23T02:05:03.386689Z"
    }
   },
   "outputs": [
    {
     "name": "stdout",
     "output_type": "stream",
     "text": [
      "x_train shape: (60000, 28, 28, 1)\n",
      "60000 train samples\n",
      "10000 validation samples\n"
     ]
    }
   ],
   "source": [
    "# Model / data parameters\n",
    "num_classes = 10\n",
    "input_shape = (28, 28, 1)\n",
    "\n",
    "# Load the data and split it between train and test sets\n",
    "(x_train, y_train), (x_valid, y_valid) = keras.datasets.mnist.load_data()\n",
    "y_train_cp = y_train\n",
    "y_valid_cp = y_valid\n",
    "\n",
    "# Scale images to the [0, 1] range\n",
    "x_train = x_train.astype(\"float32\") / 255\n",
    "x_valid = x_valid.astype(\"float32\") / 255\n",
    "# Make sure images have shape (28, 28, 1)\n",
    "x_train = np.expand_dims(x_train, -1)\n",
    "x_valid = np.expand_dims(x_valid, -1)\n",
    "print(\"x_train shape:\", x_train.shape)\n",
    "print(x_train.shape[0], \"train samples\")\n",
    "print(x_valid.shape[0], \"validation samples\")\n",
    "\n",
    "\n",
    "# convert class vectors to binary class matrices\n",
    "y_train = keras.utils.to_categorical(y_train, num_classes)\n",
    "y_valid = keras.utils.to_categorical(y_valid, num_classes)"
   ]
  },
  {
   "cell_type": "markdown",
   "id": "8523f3af",
   "metadata": {},
   "source": [
    "## Additional Validation Data"
   ]
  },
  {
   "cell_type": "code",
   "execution_count": 91,
   "id": "901a81d5",
   "metadata": {
    "ExecuteTime": {
     "end_time": "2023-03-23T02:05:03.806405Z",
     "start_time": "2023-03-23T02:05:03.713699Z"
    }
   },
   "outputs": [
    {
     "name": "stdout",
     "output_type": "stream",
     "text": [
      "15000 train_subset samples\n"
     ]
    }
   ],
   "source": [
    "_, x_train_subset, _, y_train_subset = train_test_split(x_train, y_train, test_size=0.25, random_state=42)\n",
    "print(x_train_subset.shape[0], \"train_subset samples\")"
   ]
  },
  {
   "cell_type": "code",
   "execution_count": 92,
   "id": "da0aba8b",
   "metadata": {
    "ExecuteTime": {
     "end_time": "2023-03-23T02:05:03.822404Z",
     "start_time": "2023-03-23T02:05:03.809405Z"
    }
   },
   "outputs": [
    {
     "name": "stdout",
     "output_type": "stream",
     "text": [
      "1\n"
     ]
    },
    {
     "data": {
      "text/plain": [
       "array([[0., 1., 0., 0., 0., 0., 0., 0., 0., 0.],\n",
       "       [0., 1., 0., 0., 0., 0., 0., 0., 0., 0.],\n",
       "       [0., 1., 0., 0., 0., 0., 0., 0., 0., 0.]], dtype=float32)"
      ]
     },
     "execution_count": 92,
     "metadata": {},
     "output_type": "execute_result"
    }
   ],
   "source": [
    "validationMasks = {}\n",
    "for i in range(0,10):\n",
    "    validationMasks[i] = y_valid_cp==i\n",
    "randomDigit = random.choice(range(10))\n",
    "print(randomDigit)\n",
    "y_valid[validationMasks[randomDigit]][0:3]"
   ]
  },
  {
   "cell_type": "code",
   "execution_count": 93,
   "id": "3b1bb734",
   "metadata": {
    "ExecuteTime": {
     "end_time": "2023-03-23T02:05:03.837408Z",
     "start_time": "2023-03-23T02:05:03.824404Z"
    }
   },
   "outputs": [
    {
     "data": {
      "text/plain": [
       "((10000, 28, 28, 1), 10000)"
      ]
     },
     "execution_count": 93,
     "metadata": {},
     "output_type": "execute_result"
    }
   ],
   "source": [
    "x_valid.shape,len(x_valid)"
   ]
  },
  {
   "cell_type": "code",
   "execution_count": 94,
   "id": "709e4e67",
   "metadata": {
    "ExecuteTime": {
     "end_time": "2023-03-23T02:05:03.979559Z",
     "start_time": "2023-03-23T02:05:03.839405Z"
    }
   },
   "outputs": [
    {
     "name": "stdout",
     "output_type": "stream",
     "text": [
      "Display a Random Image of  Random Degit 4  At a Random Index of  911\n"
     ]
    },
    {
     "data": {
      "text/plain": [
       "<matplotlib.image.AxesImage at 0x215e359d550>"
      ]
     },
     "execution_count": 94,
     "metadata": {},
     "output_type": "execute_result"
    },
    {
     "data": {
      "image/png": "[encoded data removed]",
      "text/plain": [
       "<Figure size 640x480 with 1 Axes>"
      ]
     },
     "metadata": {},
     "output_type": "display_data"
    }
   ],
   "source": [
    "\n",
    "list1 = [1, 2, 3, 4, 5, 6]\n",
    "displayNum = random.choice(range(10))\n",
    "\n",
    "randomImage_index = random.choice(range(len(x_valid[validationMasks[displayNum]])))\n",
    "print('Display a Random Image of  Random Degit',displayNum,' At a Random Index of ',randomImage_index)\n",
    "#print()\n",
    "\n",
    "imge_2 = x_valid[validationMasks[displayNum]][randomImage_index]\n",
    "pyplot.imshow(imge_2)"
   ]
  },
  {
   "cell_type": "code",
   "execution_count": 95,
   "id": "381d6fc0",
   "metadata": {
    "ExecuteTime": {
     "end_time": "2023-03-23T02:05:03.994707Z",
     "start_time": "2023-03-23T02:05:03.980579Z"
    }
   },
   "outputs": [],
   "source": [
    "## Image Generation For Train & Validation"
   ]
  },
  {
   "cell_type": "code",
   "execution_count": 96,
   "id": "d4971525",
   "metadata": {
    "ExecuteTime": {
     "end_time": "2023-03-23T02:05:04.010670Z",
     "start_time": "2023-03-23T02:05:03.995744Z"
    }
   },
   "outputs": [
    {
     "name": "stdout",
     "output_type": "stream",
     "text": [
      " datagen_train NextBatch , Batch Shape, X_Shape, Y_Shape 2 (32, 28, 28, 1) (32, 10)\n"
     ]
    }
   ],
   "source": [
    "datagen_train = ImageDataGenerator(\n",
    "        rotation_range=15,\n",
    "        width_shift_range=0.15,\n",
    "        height_shift_range=0.15,\n",
    "        shear_range=0.15,\n",
    "        zoom_range=0.15,\n",
    "        horizontal_flip=False,\n",
    "        fill_mode='nearest')\n",
    "\n",
    "datagen_valid = ImageDataGenerator()\n",
    "\n",
    "#datagen.fit(datagen_train)\n",
    "datagenFlow_train = datagen_train.flow(x_train,y_train)\n",
    "\n",
    "trainItem = datagenFlow_train.next()\n",
    "trainItem\n",
    "print(' datagen_train NextBatch , Batch Shape, X_Shape, Y_Shape',len(trainItem),(trainItem[0].shape),(trainItem[1].shape))\n",
    "\n",
    "#Rest\n",
    "datagenFlow_train = datagen_train.flow(x_train,y_train)\n",
    "# Usual Validation \n",
    "datagenFlow_valid = datagen_train.flow(x_train_subset,y_train_subset)"
   ]
  },
  {
   "cell_type": "markdown",
   "id": "db0e31b2",
   "metadata": {},
   "source": [
    "## Special Train & Valid Stratergy "
   ]
  },
  {
   "cell_type": "code",
   "execution_count": 97,
   "id": "52ad2a57",
   "metadata": {
    "ExecuteTime": {
     "end_time": "2023-03-23T02:05:04.025960Z",
     "start_time": "2023-03-23T02:05:04.012786Z"
    }
   },
   "outputs": [],
   "source": [
    "\n",
    "#Modified Train to Evaluate Over fitting\n",
    "validationSets = {}\n",
    "\n",
    "validationSets['train_sub'] = datagen_valid.flow(x_train_subset,y_train_subset)\n",
    "\n",
    "# Specail Case Validation\n",
    "#y_valid[validationMasks[randomDigit]]\n",
    "validationSets['1'] = datagen_train.flow(x_valid[validationMasks[1]],y_valid[validationMasks[1]]) #Least confusing\n",
    "validationSets['0'] = datagen_train.flow(x_valid[validationMasks[0]],y_valid[validationMasks[0]]) \n",
    "validationSets['6'] = datagen_train.flow(x_valid[validationMasks[6]],y_valid[validationMasks[6]])\n",
    "validationSets['8'] = datagen_train.flow(x_valid[validationMasks[8]],y_valid[validationMasks[8]])\n"
   ]
  },
  {
   "cell_type": "markdown",
   "id": "d4f477d0",
   "metadata": {},
   "source": [
    "# Model"
   ]
  },
  {
   "cell_type": "code",
   "execution_count": 98,
   "id": "e37a8c7f",
   "metadata": {
    "ExecuteTime": {
     "end_time": "2023-03-23T02:05:04.041159Z",
     "start_time": "2023-03-23T02:05:04.028067Z"
    }
   },
   "outputs": [],
   "source": [
    "from keras.models import Sequential\n",
    "from keras.layers import Conv2D, MaxPooling2D\n",
    "from keras.layers import Activation, Dropout, Flatten, Dense\n",
    "\n",
    "def getModel():\n",
    "    model = Sequential()\n",
    "    model.add(Conv2D(32, kernel_size=(3, 3), strides=(1, 1),activation='relu', input_shape=(28,28,1), padding='same'))\n",
    "    #model.add( Conv2D(32, (3, 3), input_shape=(3, 150, 150)),padding='same')\n",
    "    model.add(MaxPooling2D(pool_size=(2, 2)))\n",
    "\n",
    "    model.add(Conv2D(32, (3, 3) , activation='relu' ))\n",
    "    model.add(Activation('relu'))\n",
    "    model.add(MaxPooling2D(pool_size=(2, 2)))\n",
    "\n",
    "    model.add(Flatten())  # this converts our 3D feature maps to 1D feature vectors\n",
    "    model.add(Dense(64, activation='relu'))\n",
    "    model.add(Dropout(0.5))\n",
    "    model.add(Dense(10,activation='softmax'))\n",
    "\n",
    "    model.compile(loss='categorical_crossentropy',optimizer='rmsprop',metrics=['accuracy'])\n",
    "\n",
    "    model.summary()\n",
    "    return model"
   ]
  },
  {
   "cell_type": "markdown",
   "id": "27e1f5b7",
   "metadata": {},
   "source": [
    "# Usaul Model Training"
   ]
  },
  {
   "cell_type": "code",
   "execution_count": 99,
   "id": "031cdef2",
   "metadata": {
    "ExecuteTime": {
     "end_time": "2023-03-23T02:06:20.218372Z",
     "start_time": "2023-03-23T02:05:04.042252Z"
    }
   },
   "outputs": [
    {
     "name": "stdout",
     "output_type": "stream",
     "text": [
      "Model: \"sequential_8\"\n",
      "_________________________________________________________________\n",
      " Layer (type)                Output Shape              Param #   \n",
      "=================================================================\n",
      " conv2d_16 (Conv2D)          (None, 28, 28, 32)        320       \n",
      "                                                                 \n",
      " max_pooling2d_16 (MaxPoolin  (None, 14, 14, 32)       0         \n",
      " g2D)                                                            \n",
      "                                                                 \n",
      " conv2d_17 (Conv2D)          (None, 12, 12, 32)        9248      \n",
      "                                                                 \n",
      " activation_8 (Activation)   (None, 12, 12, 32)        0         \n",
      "                                                                 \n",
      " max_pooling2d_17 (MaxPoolin  (None, 6, 6, 32)         0         \n",
      " g2D)                                                            \n",
      "                                                                 \n",
      " flatten_8 (Flatten)         (None, 1152)              0         \n",
      "                                                                 \n",
      " dense_16 (Dense)            (None, 64)                73792     \n",
      "                                                                 \n",
      " dropout_8 (Dropout)         (None, 64)                0         \n",
      "                                                                 \n",
      " dense_17 (Dense)            (None, 10)                650       \n",
      "                                                                 \n",
      "=================================================================\n",
      "Total params: 84,010\n",
      "Trainable params: 84,010\n",
      "Non-trainable params: 0\n",
      "_________________________________________________________________\n",
      "Epoch 1/5\n",
      "1875/1875 [==============================] - 16s 8ms/step - loss: 0.6969 - accuracy: 0.7738 - val_loss: 0.2200 - val_accuracy: 0.9337\n",
      "Epoch 2/5\n",
      "1875/1875 [==============================] - 15s 8ms/step - loss: 0.3261 - accuracy: 0.9035 - val_loss: 0.1684 - val_accuracy: 0.9518\n",
      "Epoch 3/5\n",
      "1875/1875 [==============================] - 15s 8ms/step - loss: 0.2637 - accuracy: 0.9230 - val_loss: 0.1658 - val_accuracy: 0.9565\n",
      "Epoch 4/5\n",
      "1875/1875 [==============================] - 15s 8ms/step - loss: 0.2631 - accuracy: 0.9267 - val_loss: 0.1659 - val_accuracy: 0.9532\n",
      "Epoch 5/5\n",
      "1875/1875 [==============================] - 15s 8ms/step - loss: 0.2681 - accuracy: 0.9242 - val_loss: 0.1464 - val_accuracy: 0.9592\n"
     ]
    },
    {
     "data": {
      "text/html": [
       "<div>\n",
       "<style scoped>\n",
       "    .dataframe tbody tr th:only-of-type {\n",
       "        vertical-align: middle;\n",
       "    }\n",
       "\n",
       "    .dataframe tbody tr th {\n",
       "        vertical-align: top;\n",
       "    }\n",
       "\n",
       "    .dataframe thead th {\n",
       "        text-align: right;\n",
       "    }\n",
       "</style>\n",
       "<table border=\"1\" class=\"dataframe\">\n",
       "  <thead>\n",
       "    <tr style=\"text-align: right;\">\n",
       "      <th></th>\n",
       "      <th>loss</th>\n",
       "      <th>accuracy</th>\n",
       "      <th>val_loss</th>\n",
       "      <th>val_accuracy</th>\n",
       "    </tr>\n",
       "  </thead>\n",
       "  <tbody>\n",
       "    <tr>\n",
       "      <th>0</th>\n",
       "      <td>0.696930</td>\n",
       "      <td>0.773750</td>\n",
       "      <td>0.219957</td>\n",
       "      <td>0.933667</td>\n",
       "    </tr>\n",
       "    <tr>\n",
       "      <th>1</th>\n",
       "      <td>0.326139</td>\n",
       "      <td>0.903500</td>\n",
       "      <td>0.168397</td>\n",
       "      <td>0.951800</td>\n",
       "    </tr>\n",
       "    <tr>\n",
       "      <th>2</th>\n",
       "      <td>0.263722</td>\n",
       "      <td>0.923033</td>\n",
       "      <td>0.165844</td>\n",
       "      <td>0.956533</td>\n",
       "    </tr>\n",
       "    <tr>\n",
       "      <th>3</th>\n",
       "      <td>0.263145</td>\n",
       "      <td>0.926667</td>\n",
       "      <td>0.165877</td>\n",
       "      <td>0.953200</td>\n",
       "    </tr>\n",
       "    <tr>\n",
       "      <th>4</th>\n",
       "      <td>0.268104</td>\n",
       "      <td>0.924217</td>\n",
       "      <td>0.146361</td>\n",
       "      <td>0.959200</td>\n",
       "    </tr>\n",
       "  </tbody>\n",
       "</table>\n",
       "</div>"
      ],
      "text/plain": [
       "       loss  accuracy  val_loss  val_accuracy\n",
       "0  0.696930  0.773750  0.219957      0.933667\n",
       "1  0.326139  0.903500  0.168397      0.951800\n",
       "2  0.263722  0.923033  0.165844      0.956533\n",
       "3  0.263145  0.926667  0.165877      0.953200\n",
       "4  0.268104  0.924217  0.146361      0.959200"
      ]
     },
     "execution_count": 99,
     "metadata": {},
     "output_type": "execute_result"
    },
    {
     "data": {
      "image/png": "[encoded data removed]",
      "text/plain": [
       "<Figure size 640x480 with 1 Axes>"
      ]
     },
     "metadata": {},
     "output_type": "display_data"
    }
   ],
   "source": [
    "\n",
    "modelLog = getModel().fit(\n",
    "        datagenFlow_train,validation_data=datagenFlow_valid,\n",
    "        epochs=5)\n",
    "historyDf = pd.DataFrame(modelLog.history)\n",
    "historyDf[['loss','val_loss']].plot()\n",
    "historyDf.head(5)"
   ]
  },
  {
   "cell_type": "markdown",
   "id": "4d6387e4",
   "metadata": {},
   "source": [
    "# Better way to compare model"
   ]
  },
  {
   "cell_type": "code",
   "execution_count": 100,
   "id": "ad52ce3a",
   "metadata": {
    "ExecuteTime": {
     "end_time": "2023-03-23T02:06:20.242261Z",
     "start_time": "2023-03-23T02:06:20.221375Z"
    }
   },
   "outputs": [],
   "source": [
    "class MultipleValidationCallBack(keras.callbacks.Callback):\n",
    "    \n",
    "    def on_epoch_end(self, epoch, logs=None):\n",
    "        for thisValidationType in validationSets:\n",
    "            #datagen = \n",
    "            thisLoss = self.model.evaluate(validationSets[thisValidationType])\n",
    "            logs[thisValidationType+\"_loss\"] = thisLoss[0]\n",
    "            logs[thisValidationType+\"_acc\"] = thisLoss[1]"
   ]
  },
  {
   "cell_type": "code",
   "execution_count": 101,
   "id": "cc2a4d24",
   "metadata": {
    "ExecuteTime": {
     "end_time": "2023-03-23T02:07:47.447318Z",
     "start_time": "2023-03-23T02:06:20.242261Z"
    }
   },
   "outputs": [
    {
     "name": "stdout",
     "output_type": "stream",
     "text": [
      "Model: \"sequential_9\"\n",
      "_________________________________________________________________\n",
      " Layer (type)                Output Shape              Param #   \n",
      "=================================================================\n",
      " conv2d_18 (Conv2D)          (None, 28, 28, 32)        320       \n",
      "                                                                 \n",
      " max_pooling2d_18 (MaxPoolin  (None, 14, 14, 32)       0         \n",
      " g2D)                                                            \n",
      "                                                                 \n",
      " conv2d_19 (Conv2D)          (None, 12, 12, 32)        9248      \n",
      "                                                                 \n",
      " activation_9 (Activation)   (None, 12, 12, 32)        0         \n",
      "                                                                 \n",
      " max_pooling2d_19 (MaxPoolin  (None, 6, 6, 32)         0         \n",
      " g2D)                                                            \n",
      "                                                                 \n",
      " flatten_9 (Flatten)         (None, 1152)              0         \n",
      "                                                                 \n",
      " dense_18 (Dense)            (None, 64)                73792     \n",
      "                                                                 \n",
      " dropout_9 (Dropout)         (None, 64)                0         \n",
      "                                                                 \n",
      " dense_19 (Dense)            (None, 10)                650       \n",
      "                                                                 \n",
      "=================================================================\n",
      "Total params: 84,010\n",
      "Trainable params: 84,010\n",
      "Non-trainable params: 0\n",
      "_________________________________________________________________\n",
      "Epoch 1/5\n",
      "469/469 [==============================] - 1s 2ms/step - loss: 0.1057 - accuracy: 0.9695\n",
      "36/36 [==============================] - 0s 6ms/step - loss: 0.0531 - accuracy: 0.9885\n",
      "31/31 [==============================] - 0s 6ms/step - loss: 0.1079 - accuracy: 0.9724\n",
      "30/30 [==============================] - 0s 6ms/step - loss: 0.1278 - accuracy: 0.9624\n",
      "31/31 [==============================] - 0s 6ms/step - loss: 0.6188 - accuracy: 0.8070\n",
      "1875/1875 [==============================] - 18s 9ms/step - loss: 0.7342 - accuracy: 0.7627 - val_loss: 0.2442 - val_accuracy: 0.9237 - train_sub_loss: 0.1057 - train_sub_acc: 0.9695 - 1_loss: 0.0531 - 1_acc: 0.9885 - 0_loss: 0.1079 - 0_acc: 0.9724 - 6_loss: 0.1278 - 6_acc: 0.9624 - 8_loss: 0.6188 - 8_acc: 0.8070\n",
      "Epoch 2/5\n",
      "469/469 [==============================] - 1s 2ms/step - loss: 0.0732 - accuracy: 0.9777\n",
      "36/36 [==============================] - 0s 6ms/step - loss: 0.0826 - accuracy: 0.9780\n",
      "31/31 [==============================] - 0s 6ms/step - loss: 0.0756 - accuracy: 0.9765\n",
      "30/30 [==============================] - 0s 7ms/step - loss: 0.0950 - accuracy: 0.9739\n",
      "31/31 [==============================] - 0s 6ms/step - loss: 0.1382 - accuracy: 0.9713\n",
      "1875/1875 [==============================] - 17s 9ms/step - loss: 0.3273 - accuracy: 0.9013 - val_loss: 0.1515 - val_accuracy: 0.9539 - train_sub_loss: 0.0732 - train_sub_acc: 0.9777 - 1_loss: 0.0826 - 1_acc: 0.9780 - 0_loss: 0.0756 - 0_acc: 0.9765 - 6_loss: 0.0950 - 6_acc: 0.9739 - 8_loss: 0.1382 - 8_acc: 0.9713\n",
      "Epoch 3/5\n",
      "469/469 [==============================] - 1s 2ms/step - loss: 0.1056 - accuracy: 0.9691\n",
      "36/36 [==============================] - 0s 7ms/step - loss: 0.1157 - accuracy: 0.9692\n",
      "31/31 [==============================] - 0s 6ms/step - loss: 0.1391 - accuracy: 0.9582\n",
      "30/30 [==============================] - 0s 6ms/step - loss: 0.1476 - accuracy: 0.9436\n",
      "31/31 [==============================] - 0s 6ms/step - loss: 0.0684 - accuracy: 0.9846\n",
      "1875/1875 [==============================] - 18s 9ms/step - loss: 0.2672 - accuracy: 0.9220 - val_loss: 0.1837 - val_accuracy: 0.9431 - train_sub_loss: 0.1056 - train_sub_acc: 0.9691 - 1_loss: 0.1157 - 1_acc: 0.9692 - 0_loss: 0.1391 - 0_acc: 0.9582 - 6_loss: 0.1476 - 6_acc: 0.9436 - 8_loss: 0.0684 - 8_acc: 0.9846\n",
      "Epoch 4/5\n",
      "469/469 [==============================] - 1s 2ms/step - loss: 0.0935 - accuracy: 0.9778\n",
      "36/36 [==============================] - 0s 7ms/step - loss: 0.1105 - accuracy: 0.9753\n",
      "31/31 [==============================] - 0s 7ms/step - loss: 0.1758 - accuracy: 0.9469\n",
      "30/30 [==============================] - 0s 7ms/step - loss: 0.1140 - accuracy: 0.9593\n",
      "31/31 [==============================] - 0s 6ms/step - loss: 0.0923 - accuracy: 0.9764\n",
      "1875/1875 [==============================] - 17s 9ms/step - loss: 0.2552 - accuracy: 0.9293 - val_loss: 0.1340 - val_accuracy: 0.9606 - train_sub_loss: 0.0935 - train_sub_acc: 0.9778 - 1_loss: 0.1105 - 1_acc: 0.9753 - 0_loss: 0.1758 - 0_acc: 0.9469 - 6_loss: 0.1140 - 6_acc: 0.9593 - 8_loss: 0.0923 - 8_acc: 0.9764\n",
      "Epoch 5/5\n",
      "469/469 [==============================] - 1s 2ms/step - loss: 0.1216 - accuracy: 0.9764\n",
      "36/36 [==============================] - 0s 6ms/step - loss: 0.1518 - accuracy: 0.9665\n",
      "31/31 [==============================] - 0s 7ms/step - loss: 0.0785 - accuracy: 0.9786\n",
      "30/30 [==============================] - 0s 6ms/step - loss: 0.1284 - accuracy: 0.9509\n",
      "31/31 [==============================] - 0s 6ms/step - loss: 0.3127 - accuracy: 0.9333\n",
      "1875/1875 [==============================] - 17s 9ms/step - loss: 0.2591 - accuracy: 0.9274 - val_loss: 0.1341 - val_accuracy: 0.9633 - train_sub_loss: 0.1216 - train_sub_acc: 0.9764 - 1_loss: 0.1518 - 1_acc: 0.9665 - 0_loss: 0.0785 - 0_acc: 0.9786 - 6_loss: 0.1284 - 6_acc: 0.9509 - 8_loss: 0.3127 - 8_acc: 0.9333\n"
     ]
    },
    {
     "data": {
      "text/plain": [
       "<Axes: >"
      ]
     },
     "execution_count": 101,
     "metadata": {},
     "output_type": "execute_result"
    },
    {
     "data": {
      "image/png": "[encoded data removed]",
      "text/plain": [
       "<Figure size 640x480 with 1 Axes>"
      ]
     },
     "metadata": {},
     "output_type": "display_data"
    }
   ],
   "source": [
    "modelLog = getModel().fit(\n",
    "        datagenFlow_train,validation_data=datagenFlow_valid,\n",
    "        callbacks=[MultipleValidationCallBack()], #\n",
    "        epochs=5)\n",
    "historyDf_2 = pd.DataFrame(modelLog.history)\n",
    "historyDf_2[['loss','val_loss']].plot()"
   ]
  },
  {
   "cell_type": "code",
   "execution_count": 102,
   "id": "bc1fddd0",
   "metadata": {
    "ExecuteTime": {
     "end_time": "2023-03-23T02:07:47.462518Z",
     "start_time": "2023-03-23T02:07:47.447318Z"
    }
   },
   "outputs": [
    {
     "data": {
      "text/html": [
       "<div>\n",
       "<style scoped>\n",
       "    .dataframe tbody tr th:only-of-type {\n",
       "        vertical-align: middle;\n",
       "    }\n",
       "\n",
       "    .dataframe tbody tr th {\n",
       "        vertical-align: top;\n",
       "    }\n",
       "\n",
       "    .dataframe thead th {\n",
       "        text-align: right;\n",
       "    }\n",
       "</style>\n",
       "<table border=\"1\" class=\"dataframe\">\n",
       "  <thead>\n",
       "    <tr style=\"text-align: right;\">\n",
       "      <th></th>\n",
       "      <th>loss</th>\n",
       "      <th>accuracy</th>\n",
       "      <th>val_loss</th>\n",
       "      <th>val_accuracy</th>\n",
       "      <th>train_sub_loss</th>\n",
       "      <th>train_sub_acc</th>\n",
       "      <th>1_loss</th>\n",
       "      <th>1_acc</th>\n",
       "      <th>0_loss</th>\n",
       "      <th>0_acc</th>\n",
       "      <th>6_loss</th>\n",
       "      <th>6_acc</th>\n",
       "      <th>8_loss</th>\n",
       "      <th>8_acc</th>\n",
       "    </tr>\n",
       "  </thead>\n",
       "  <tbody>\n",
       "    <tr>\n",
       "      <th>0</th>\n",
       "      <td>0.734230</td>\n",
       "      <td>0.762733</td>\n",
       "      <td>0.244217</td>\n",
       "      <td>0.923733</td>\n",
       "      <td>0.105695</td>\n",
       "      <td>0.969533</td>\n",
       "      <td>0.053088</td>\n",
       "      <td>0.988546</td>\n",
       "      <td>0.107909</td>\n",
       "      <td>0.972449</td>\n",
       "      <td>0.127815</td>\n",
       "      <td>0.962422</td>\n",
       "      <td>0.618769</td>\n",
       "      <td>0.806982</td>\n",
       "    </tr>\n",
       "    <tr>\n",
       "      <th>1</th>\n",
       "      <td>0.327300</td>\n",
       "      <td>0.901333</td>\n",
       "      <td>0.151499</td>\n",
       "      <td>0.953933</td>\n",
       "      <td>0.073221</td>\n",
       "      <td>0.977667</td>\n",
       "      <td>0.082589</td>\n",
       "      <td>0.977974</td>\n",
       "      <td>0.075586</td>\n",
       "      <td>0.976531</td>\n",
       "      <td>0.095006</td>\n",
       "      <td>0.973904</td>\n",
       "      <td>0.138229</td>\n",
       "      <td>0.971253</td>\n",
       "    </tr>\n",
       "    <tr>\n",
       "      <th>2</th>\n",
       "      <td>0.267182</td>\n",
       "      <td>0.922033</td>\n",
       "      <td>0.183671</td>\n",
       "      <td>0.943133</td>\n",
       "      <td>0.105585</td>\n",
       "      <td>0.969067</td>\n",
       "      <td>0.115748</td>\n",
       "      <td>0.969163</td>\n",
       "      <td>0.139109</td>\n",
       "      <td>0.958163</td>\n",
       "      <td>0.147612</td>\n",
       "      <td>0.943633</td>\n",
       "      <td>0.068374</td>\n",
       "      <td>0.984600</td>\n",
       "    </tr>\n",
       "    <tr>\n",
       "      <th>3</th>\n",
       "      <td>0.255210</td>\n",
       "      <td>0.929283</td>\n",
       "      <td>0.134004</td>\n",
       "      <td>0.960600</td>\n",
       "      <td>0.093505</td>\n",
       "      <td>0.977800</td>\n",
       "      <td>0.110455</td>\n",
       "      <td>0.975330</td>\n",
       "      <td>0.175837</td>\n",
       "      <td>0.946939</td>\n",
       "      <td>0.114048</td>\n",
       "      <td>0.959290</td>\n",
       "      <td>0.092303</td>\n",
       "      <td>0.976386</td>\n",
       "    </tr>\n",
       "    <tr>\n",
       "      <th>4</th>\n",
       "      <td>0.259074</td>\n",
       "      <td>0.927367</td>\n",
       "      <td>0.134127</td>\n",
       "      <td>0.963333</td>\n",
       "      <td>0.121602</td>\n",
       "      <td>0.976400</td>\n",
       "      <td>0.151802</td>\n",
       "      <td>0.966520</td>\n",
       "      <td>0.078488</td>\n",
       "      <td>0.978571</td>\n",
       "      <td>0.128376</td>\n",
       "      <td>0.950939</td>\n",
       "      <td>0.312727</td>\n",
       "      <td>0.933265</td>\n",
       "    </tr>\n",
       "  </tbody>\n",
       "</table>\n",
       "</div>"
      ],
      "text/plain": [
       "       loss  accuracy  val_loss  val_accuracy  train_sub_loss  train_sub_acc  \\\n",
       "0  0.734230  0.762733  0.244217      0.923733        0.105695       0.969533   \n",
       "1  0.327300  0.901333  0.151499      0.953933        0.073221       0.977667   \n",
       "2  0.267182  0.922033  0.183671      0.943133        0.105585       0.969067   \n",
       "3  0.255210  0.929283  0.134004      0.960600        0.093505       0.977800   \n",
       "4  0.259074  0.927367  0.134127      0.963333        0.121602       0.976400   \n",
       "\n",
       "     1_loss     1_acc    0_loss     0_acc    6_loss     6_acc    8_loss  \\\n",
       "0  0.053088  0.988546  0.107909  0.972449  0.127815  0.962422  0.618769   \n",
       "1  0.082589  0.977974  0.075586  0.976531  0.095006  0.973904  0.138229   \n",
       "2  0.115748  0.969163  0.139109  0.958163  0.147612  0.943633  0.068374   \n",
       "3  0.110455  0.975330  0.175837  0.946939  0.114048  0.959290  0.092303   \n",
       "4  0.151802  0.966520  0.078488  0.978571  0.128376  0.950939  0.312727   \n",
       "\n",
       "      8_acc  \n",
       "0  0.806982  \n",
       "1  0.971253  \n",
       "2  0.984600  \n",
       "3  0.976386  \n",
       "4  0.933265  "
      ]
     },
     "execution_count": 102,
     "metadata": {},
     "output_type": "execute_result"
    }
   ],
   "source": [
    "historyDf_2.head(5)"
   ]
  },
  {
   "cell_type": "code",
   "execution_count": 103,
   "id": "ff464f2b",
   "metadata": {
    "ExecuteTime": {
     "end_time": "2023-03-23T02:07:47.615160Z",
     "start_time": "2023-03-23T02:07:47.464004Z"
    }
   },
   "outputs": [
    {
     "data": {
      "text/plain": [
       "<Axes: >"
      ]
     },
     "execution_count": 103,
     "metadata": {},
     "output_type": "execute_result"
    },
    {
     "data": {
      "image/png": "[encoded data removed]",
      "text/plain": [
       "<Figure size 640x480 with 1 Axes>"
      ]
     },
     "metadata": {},
     "output_type": "display_data"
    }
   ],
   "source": [
    "historyDf_2[['train_sub_loss','val_loss']].plot()"
   ]
  },
  {
   "cell_type": "code",
   "execution_count": 104,
   "id": "b2d89109",
   "metadata": {
    "ExecuteTime": {
     "end_time": "2023-03-23T02:07:47.804420Z",
     "start_time": "2023-03-23T02:07:47.615160Z"
    }
   },
   "outputs": [
    {
     "data": {
      "text/plain": [
       "<Axes: >"
      ]
     },
     "execution_count": 104,
     "metadata": {},
     "output_type": "execute_result"
    },
    {
     "data": {
      "image/png": "[encoded data removed]",
      "text/plain": [
       "<Figure size 640x480 with 1 Axes>"
      ]
     },
     "metadata": {},
     "output_type": "display_data"
    }
   ],
   "source": [
    "historyDf_2[['val_accuracy','0_acc','1_acc','6_acc','8_acc']].plot()"
   ]
  }
 ],
 "metadata": {
  "kernelspec": {
   "display_name": "Python 3 (ipykernel)",
   "language": "python",
   "name": "python3"
  },
  "language_info": {
   "codemirror_mode": {
    "name": "ipython",
    "version": 3
   },
   "file_extension": ".py",
   "mimetype": "text/x-python",
   "name": "python",
   "nbconvert_exporter": "python",
   "pygments_lexer": "ipython3",
   "version": "3.9.13"
  },
  "toc": {
   "base_numbering": 1,
   "nav_menu": {},
   "number_sections": true,
   "sideBar": true,
   "skip_h1_title": false,
   "title_cell": "Table of Contents",
   "title_sidebar": "Contents",
   "toc_cell": false,
   "toc_position": {},
   "toc_section_display": true,
   "toc_window_display": true
  }
 },
 "nbformat": 4,
 "nbformat_minor": 5
}
